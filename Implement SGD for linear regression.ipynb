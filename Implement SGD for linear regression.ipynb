{
 "cells": [
  {
   "cell_type": "markdown",
   "metadata": {},
   "source": [
    "# Implement SGD for Linear Regression\n",
    "\n",
    "Boston House Prices dataset\n",
    "===========================\n",
    "\n",
    "Notes\n",
    "------\n",
    "Data Set Characteristics:  \n",
    "\n",
    "    :Number of Instances: 506 \n",
    "\n",
    "    :Number of Attributes: 13 numeric/categorical predictive\n",
    "    \n",
    "    :Median Value (attribute 14) is usually the target\n",
    "\n",
    "    :Attribute Information (in order):\n",
    "        - CRIM     per capita crime rate by town\n",
    "        - ZN       proportion of residential land zoned for lots over 25,000 sq.ft.\n",
    "        - INDUS    proportion of non-retail business acres per town\n",
    "        - CHAS     Charles River dummy variable (= 1 if tract bounds river; 0 otherwise)\n",
    "        - NOX      nitric oxides concentration (parts per 10 million)\n",
    "        - RM       average number of rooms per dwelling\n",
    "        - AGE      proportion of owner-occupied units built prior to 1940\n",
    "        - DIS      weighted distances to five Boston employment centres\n",
    "        - RAD      index of accessibility to radial highways\n",
    "        - TAX      full-value property-tax rate per $10,000\n",
    "        - PTRATIO  pupil-teacher ratio by town\n",
    "        - B        1000(Bk - 0.63)^2 where Bk is the proportion of blacks by town\n",
    "        - LSTAT    % lower status of the population\n",
    "        - MEDV     Median value of owner-occupied homes in $1000's\n",
    "\n",
    "    :Missing Attribute Values: None\n",
    "\n",
    "    :Creator: Harrison, D. and Rubinfeld, D.L.\n",
    "\n",
    "This is a copy of UCI ML housing dataset.\n",
    "http://archive.ics.uci.edu/ml/datasets/Housing\n",
    "\n",
    "\n",
    "This dataset was taken from the StatLib library which is maintained at Carnegie Mellon University.\n",
    "\n",
    "The Boston house-price data of Harrison, D. and Rubinfeld, D.L. 'Hedonic\n",
    "prices and the demand for clean air', J. Environ. Economics & Management,\n",
    "vol.5, 81-102, 1978.   Used in Belsley, Kuh & Welsch, 'Regression diagnostics\n",
    "...', Wiley, 1980.   N.B. Various transformations are used in the table on\n",
    "pages 244-261 of the latter.\n",
    "\n",
    "The Boston house-price data has been used in many machine learning papers that address regression\n",
    "problems.   \n",
    "     \n",
    "**References**\n",
    "\n",
    "   - Belsley, Kuh & Welsch, 'Regression diagnostics: Identifying Influential Data and Sources of Collinearity', Wiley, 1980. 244-261.\n",
    "   - Quinlan,R. (1993). Combining Instance-Based and Model-Based Learning. In Proceedings on the Tenth International Conference of Machine Learning, 236-243, University of Massachusetts, Amherst. Morgan Kaufmann.\n",
    "   - many more! (see http://archive.ics.uci.edu/ml/datasets/Housing)"
   ]
  },
  {
   "cell_type": "code",
   "execution_count": 61,
   "metadata": {},
   "outputs": [],
   "source": [
    "from sklearn.datasets import load_boston\n",
    "from sklearn.preprocessing import StandardScaler\n",
    "from sklearn.linear_model import SGDRegressor\n",
    "from sklearn import cross_validation\n",
    "from sklearn.metrics import mean_squared_error\n",
    "from prettytable import PrettyTable\n",
    "\n",
    "import matplotlib.pyplot as plt\n",
    "import warnings\n",
    "warnings.filterwarnings('ignore')\n",
    "\n",
    "import pandas as pd\n",
    "import numpy as np"
   ]
  },
  {
   "cell_type": "code",
   "execution_count": 9,
   "metadata": {},
   "outputs": [
    {
     "name": "stdout",
     "output_type": "stream",
     "text": [
      "(506, 13)\n"
     ]
    }
   ],
   "source": [
    "boston = load_boston()\n",
    "\n",
    "print(boston.data.shape)"
   ]
  },
  {
   "cell_type": "code",
   "execution_count": 10,
   "metadata": {
    "scrolled": true
   },
   "outputs": [
    {
     "name": "stdout",
     "output_type": "stream",
     "text": [
      "['CRIM' 'ZN' 'INDUS' 'CHAS' 'NOX' 'RM' 'AGE' 'DIS' 'RAD' 'TAX' 'PTRATIO'\n",
      " 'B' 'LSTAT']\n"
     ]
    }
   ],
   "source": [
    "print(boston.feature_names)"
   ]
  },
  {
   "cell_type": "code",
   "execution_count": 11,
   "metadata": {},
   "outputs": [
    {
     "name": "stdout",
     "output_type": "stream",
     "text": [
      "[24.  21.6 34.7 33.4 36.2 28.7 22.9 27.1 16.5 18.9 15.  18.9 21.7 20.4\n",
      " 18.2 19.9 23.1 17.5 20.2 18.2 13.6 19.6 15.2 14.5 15.6 13.9 16.6 14.8\n",
      " 18.4 21.  12.7 14.5 13.2 13.1 13.5 18.9 20.  21.  24.7 30.8 34.9 26.6\n",
      " 25.3 24.7 21.2 19.3 20.  16.6 14.4 19.4 19.7 20.5 25.  23.4 18.9 35.4\n",
      " 24.7 31.6 23.3 19.6 18.7 16.  22.2 25.  33.  23.5 19.4 22.  17.4 20.9\n",
      " 24.2 21.7 22.8 23.4 24.1 21.4 20.  20.8 21.2 20.3 28.  23.9 24.8 22.9\n",
      " 23.9 26.6 22.5 22.2 23.6 28.7 22.6 22.  22.9 25.  20.6 28.4 21.4 38.7\n",
      " 43.8 33.2 27.5 26.5 18.6 19.3 20.1 19.5 19.5 20.4 19.8 19.4 21.7 22.8\n",
      " 18.8 18.7 18.5 18.3 21.2 19.2 20.4 19.3 22.  20.3 20.5 17.3 18.8 21.4\n",
      " 15.7 16.2 18.  14.3 19.2 19.6 23.  18.4 15.6 18.1 17.4 17.1 13.3 17.8\n",
      " 14.  14.4 13.4 15.6 11.8 13.8 15.6 14.6 17.8 15.4 21.5 19.6 15.3 19.4\n",
      " 17.  15.6 13.1 41.3 24.3 23.3 27.  50.  50.  50.  22.7 25.  50.  23.8\n",
      " 23.8 22.3 17.4 19.1 23.1 23.6 22.6 29.4 23.2 24.6 29.9 37.2 39.8 36.2\n",
      " 37.9 32.5 26.4 29.6 50.  32.  29.8 34.9 37.  30.5 36.4 31.1 29.1 50.\n",
      " 33.3 30.3 34.6 34.9 32.9 24.1 42.3 48.5 50.  22.6 24.4 22.5 24.4 20.\n",
      " 21.7 19.3 22.4 28.1 23.7 25.  23.3 28.7 21.5 23.  26.7 21.7 27.5 30.1\n",
      " 44.8 50.  37.6 31.6 46.7 31.5 24.3 31.7 41.7 48.3 29.  24.  25.1 31.5\n",
      " 23.7 23.3 22.  20.1 22.2 23.7 17.6 18.5 24.3 20.5 24.5 26.2 24.4 24.8\n",
      " 29.6 42.8 21.9 20.9 44.  50.  36.  30.1 33.8 43.1 48.8 31.  36.5 22.8\n",
      " 30.7 50.  43.5 20.7 21.1 25.2 24.4 35.2 32.4 32.  33.2 33.1 29.1 35.1\n",
      " 45.4 35.4 46.  50.  32.2 22.  20.1 23.2 22.3 24.8 28.5 37.3 27.9 23.9\n",
      " 21.7 28.6 27.1 20.3 22.5 29.  24.8 22.  26.4 33.1 36.1 28.4 33.4 28.2\n",
      " 22.8 20.3 16.1 22.1 19.4 21.6 23.8 16.2 17.8 19.8 23.1 21.  23.8 23.1\n",
      " 20.4 18.5 25.  24.6 23.  22.2 19.3 22.6 19.8 17.1 19.4 22.2 20.7 21.1\n",
      " 19.5 18.5 20.6 19.  18.7 32.7 16.5 23.9 31.2 17.5 17.2 23.1 24.5 26.6\n",
      " 22.9 24.1 18.6 30.1 18.2 20.6 17.8 21.7 22.7 22.6 25.  19.9 20.8 16.8\n",
      " 21.9 27.5 21.9 23.1 50.  50.  50.  50.  50.  13.8 13.8 15.  13.9 13.3\n",
      " 13.1 10.2 10.4 10.9 11.3 12.3  8.8  7.2 10.5  7.4 10.2 11.5 15.1 23.2\n",
      "  9.7 13.8 12.7 13.1 12.5  8.5  5.   6.3  5.6  7.2 12.1  8.3  8.5  5.\n",
      " 11.9 27.9 17.2 27.5 15.  17.2 17.9 16.3  7.   7.2  7.5 10.4  8.8  8.4\n",
      " 16.7 14.2 20.8 13.4 11.7  8.3 10.2 10.9 11.   9.5 14.5 14.1 16.1 14.3\n",
      " 11.7 13.4  9.6  8.7  8.4 12.8 10.5 17.1 18.4 15.4 10.8 11.8 14.9 12.6\n",
      " 14.1 13.  13.4 15.2 16.1 17.8 14.9 14.1 12.7 13.5 14.9 20.  16.4 17.7\n",
      " 19.5 20.2 21.4 19.9 19.  19.1 19.1 20.1 19.9 19.6 23.2 29.8 13.8 13.3\n",
      " 16.7 12.  14.6 21.4 23.  23.7 25.  21.8 20.6 21.2 19.1 20.6 15.2  7.\n",
      "  8.1 13.6 20.1 21.8 24.5 23.1 19.7 18.3 21.2 17.5 16.8 22.4 20.6 23.9\n",
      " 22.  11.9]\n"
     ]
    }
   ],
   "source": [
    "print(boston.target)"
   ]
  },
  {
   "cell_type": "code",
   "execution_count": 12,
   "metadata": {},
   "outputs": [
    {
     "data": {
      "text/html": [
       "<div>\n",
       "<style scoped>\n",
       "    .dataframe tbody tr th:only-of-type {\n",
       "        vertical-align: middle;\n",
       "    }\n",
       "\n",
       "    .dataframe tbody tr th {\n",
       "        vertical-align: top;\n",
       "    }\n",
       "\n",
       "    .dataframe thead th {\n",
       "        text-align: right;\n",
       "    }\n",
       "</style>\n",
       "<table border=\"1\" class=\"dataframe\">\n",
       "  <thead>\n",
       "    <tr style=\"text-align: right;\">\n",
       "      <th></th>\n",
       "      <th>0</th>\n",
       "      <th>1</th>\n",
       "      <th>2</th>\n",
       "      <th>3</th>\n",
       "      <th>4</th>\n",
       "      <th>5</th>\n",
       "      <th>6</th>\n",
       "      <th>7</th>\n",
       "      <th>8</th>\n",
       "      <th>9</th>\n",
       "      <th>10</th>\n",
       "      <th>11</th>\n",
       "      <th>12</th>\n",
       "    </tr>\n",
       "  </thead>\n",
       "  <tbody>\n",
       "    <tr>\n",
       "      <th>0</th>\n",
       "      <td>0.00632</td>\n",
       "      <td>18.0</td>\n",
       "      <td>2.31</td>\n",
       "      <td>0.0</td>\n",
       "      <td>0.538</td>\n",
       "      <td>6.575</td>\n",
       "      <td>65.2</td>\n",
       "      <td>4.0900</td>\n",
       "      <td>1.0</td>\n",
       "      <td>296.0</td>\n",
       "      <td>15.3</td>\n",
       "      <td>396.90</td>\n",
       "      <td>4.98</td>\n",
       "    </tr>\n",
       "    <tr>\n",
       "      <th>1</th>\n",
       "      <td>0.02731</td>\n",
       "      <td>0.0</td>\n",
       "      <td>7.07</td>\n",
       "      <td>0.0</td>\n",
       "      <td>0.469</td>\n",
       "      <td>6.421</td>\n",
       "      <td>78.9</td>\n",
       "      <td>4.9671</td>\n",
       "      <td>2.0</td>\n",
       "      <td>242.0</td>\n",
       "      <td>17.8</td>\n",
       "      <td>396.90</td>\n",
       "      <td>9.14</td>\n",
       "    </tr>\n",
       "    <tr>\n",
       "      <th>2</th>\n",
       "      <td>0.02729</td>\n",
       "      <td>0.0</td>\n",
       "      <td>7.07</td>\n",
       "      <td>0.0</td>\n",
       "      <td>0.469</td>\n",
       "      <td>7.185</td>\n",
       "      <td>61.1</td>\n",
       "      <td>4.9671</td>\n",
       "      <td>2.0</td>\n",
       "      <td>242.0</td>\n",
       "      <td>17.8</td>\n",
       "      <td>392.83</td>\n",
       "      <td>4.03</td>\n",
       "    </tr>\n",
       "    <tr>\n",
       "      <th>3</th>\n",
       "      <td>0.03237</td>\n",
       "      <td>0.0</td>\n",
       "      <td>2.18</td>\n",
       "      <td>0.0</td>\n",
       "      <td>0.458</td>\n",
       "      <td>6.998</td>\n",
       "      <td>45.8</td>\n",
       "      <td>6.0622</td>\n",
       "      <td>3.0</td>\n",
       "      <td>222.0</td>\n",
       "      <td>18.7</td>\n",
       "      <td>394.63</td>\n",
       "      <td>2.94</td>\n",
       "    </tr>\n",
       "    <tr>\n",
       "      <th>4</th>\n",
       "      <td>0.06905</td>\n",
       "      <td>0.0</td>\n",
       "      <td>2.18</td>\n",
       "      <td>0.0</td>\n",
       "      <td>0.458</td>\n",
       "      <td>7.147</td>\n",
       "      <td>54.2</td>\n",
       "      <td>6.0622</td>\n",
       "      <td>3.0</td>\n",
       "      <td>222.0</td>\n",
       "      <td>18.7</td>\n",
       "      <td>396.90</td>\n",
       "      <td>5.33</td>\n",
       "    </tr>\n",
       "  </tbody>\n",
       "</table>\n",
       "</div>"
      ],
      "text/plain": [
       "        0     1     2    3      4      5     6       7    8      9     10  \\\n",
       "0  0.00632  18.0  2.31  0.0  0.538  6.575  65.2  4.0900  1.0  296.0  15.3   \n",
       "1  0.02731   0.0  7.07  0.0  0.469  6.421  78.9  4.9671  2.0  242.0  17.8   \n",
       "2  0.02729   0.0  7.07  0.0  0.469  7.185  61.1  4.9671  2.0  242.0  17.8   \n",
       "3  0.03237   0.0  2.18  0.0  0.458  6.998  45.8  6.0622  3.0  222.0  18.7   \n",
       "4  0.06905   0.0  2.18  0.0  0.458  7.147  54.2  6.0622  3.0  222.0  18.7   \n",
       "\n",
       "       11    12  \n",
       "0  396.90  4.98  \n",
       "1  396.90  9.14  \n",
       "2  392.83  4.03  \n",
       "3  394.63  2.94  \n",
       "4  396.90  5.33  "
      ]
     },
     "execution_count": 12,
     "metadata": {},
     "output_type": "execute_result"
    }
   ],
   "source": [
    "bos = pd.DataFrame(boston.data)\n",
    "bos.head()"
   ]
  },
  {
   "cell_type": "code",
   "execution_count": 13,
   "metadata": {},
   "outputs": [],
   "source": [
    "bos['PRICE'] = boston.target\n",
    "\n",
    "X = bos.drop('PRICE', axis = 1)\n",
    "Y = bos['PRICE']"
   ]
  },
  {
   "cell_type": "markdown",
   "metadata": {},
   "source": [
    "### Splitting the data into train and test"
   ]
  },
  {
   "cell_type": "code",
   "execution_count": 14,
   "metadata": {
    "scrolled": true
   },
   "outputs": [
    {
     "name": "stdout",
     "output_type": "stream",
     "text": [
      "(339, 13)\n",
      "(167, 13)\n",
      "(339,)\n",
      "(167,)\n"
     ]
    }
   ],
   "source": [
    "X_train, X_test, Y_train, Y_test = cross_validation.train_test_split(X, Y, test_size = 0.33, random_state = 5)\n",
    "print(X_train.shape)\n",
    "print(X_test.shape)\n",
    "print(Y_train.shape)\n",
    "print(Y_test.shape)"
   ]
  },
  {
   "cell_type": "markdown",
   "metadata": {},
   "source": [
    "### Standardizing the data"
   ]
  },
  {
   "cell_type": "code",
   "execution_count": 15,
   "metadata": {},
   "outputs": [
    {
     "name": "stdout",
     "output_type": "stream",
     "text": [
      "(339, 13)\n",
      "(167, 13)\n",
      "(339,)\n",
      "(167,)\n"
     ]
    }
   ],
   "source": [
    "stdscalar = StandardScaler()\n",
    "X_train = stdscalar.fit_transform(X_train)\n",
    "X_test = stdscalar.transform(X_test)\n",
    "\n",
    "print(X_train.shape)\n",
    "print(X_test.shape)\n",
    "print(Y_train.shape)\n",
    "print(Y_test.shape)"
   ]
  },
  {
   "cell_type": "markdown",
   "metadata": {},
   "source": [
    "### Manual SGD"
   ]
  },
  {
   "cell_type": "code",
   "execution_count": 16,
   "metadata": {},
   "outputs": [],
   "source": [
    "class ManualSGDRegressor():\n",
    "    \n",
    "    def __init__(self, eta0, max_iter, batch_size = 10, eta_variation = 'invscaling', power_epoch = 0.5):\n",
    "        \n",
    "        '''\n",
    "         eta0 = learning rate\n",
    "         max_iter = epochs\n",
    "         batch_size [default 10]\n",
    "         eta_variation\n",
    "         \n",
    "            ‘constant’:\n",
    "             eta = eta0\n",
    "            \n",
    "            ‘invscaling’: [default]\n",
    "             eta = eta0 / pow(epoch, power_epoch)\n",
    "        \n",
    "         power_t = The exponent for inverse scaling learning rate [default 0.5].\n",
    "        '''\n",
    "        self.w = None\n",
    "        self.b = None\n",
    "        self.eta = eta0\n",
    "        self.max_iter = max_iter\n",
    "        self.batch_size = batch_size\n",
    "        self.eta_variation = eta_variation\n",
    "        self.power_epoch = power_epoch\n",
    "        self.coef_ = None\n",
    "        self.intercept_ = None\n",
    "        self.n = None\n",
    "        self.d = None\n",
    "        \n",
    "    def initialize_weights(self):\n",
    "        self.w = np.random.normal(0, 0.1, X.shape[1])\n",
    "        self.b = np.random.normal(0, 0.1)\n",
    "        \n",
    "    def predict(self, x):\n",
    "        return np.dot(self.coef_.reshape(1, self.d) , x.T) + self.intercept_\n",
    "    \n",
    "    def compute_squared_loss(self, y, y_pred):\n",
    "        \n",
    "        loss = y - y_pred.ravel()                \n",
    "        squared_loss = loss**2\n",
    "        \n",
    "        return squared_loss\n",
    "    \n",
    "    def compute_gradient(self, x, y, y_pred, batch_size):\n",
    "        \n",
    "        w_grad = (-2/batch_size) * np.dot(x.T, (y - y_pred.ravel()))\n",
    "        b_grad = (-2/batch_size) * (sum(y - y_pred.ravel()))\n",
    "        \n",
    "        return w_grad, b_grad\n",
    "    \n",
    "    def update_weights(self, w_grad, b_grad):\n",
    "        \n",
    "        self.coef_ = self.coef_ - self.eta * w_grad\n",
    "        self.intercept_ = self.intercept_ - self.eta * b_grad\n",
    "        \n",
    "    def fit(self, x_train, y_train):\n",
    "        self.initialize_weights()\n",
    "        \n",
    "        self.coef_ = self.w\n",
    "        self.intercept_ = self.b\n",
    "        \n",
    "        self.n = x_train.shape[0]\n",
    "        self.d = x_train.shape[1]\n",
    "        \n",
    "        mini_batches = [(x_train[i : i + self.batch_size, :], y_train[i : i + self.batch_size]) for i in range(0, self.n, self.batch_size)]\n",
    "        \n",
    "        for epoch in range(1, self.max_iter + 1):\n",
    "            \n",
    "            #'invscaling' is similar to that of sklearn.linear_model.SGDRegressor\n",
    "            if self.eta_variation == 'invscaling' :\n",
    "                self.eta = self.eta / pow(epoch, self.power_epoch)\n",
    "                \n",
    "            total_squared_loss = 0\n",
    "            for batch in mini_batches:\n",
    "                \n",
    "                x_batch = batch[0]\n",
    "                y_batch = batch[1]\n",
    "                batch_size = x_batch.shape[0]\n",
    "                \n",
    "                y_batch_pred = self.predict(x_batch)\n",
    "                squared_loss = self.compute_squared_loss(y_batch, y_batch_pred)\n",
    "                total_squared_loss += sum(squared_loss)\n",
    "                \n",
    "                w_grad, b_grad = self.compute_gradient(x_batch, y_batch, y_batch_pred, batch_size)\n",
    "                \n",
    "                self.update_weights(w_grad, b_grad)\n",
    "            \n",
    "            print(\"epoch : \" + str(epoch) + \" ----> \" + \" loss : \" + str(total_squared_loss/self.n))"
   ]
  },
  {
   "cell_type": "code",
   "execution_count": 35,
   "metadata": {},
   "outputs": [],
   "source": [
    "def scatter_plot(y, y_pred):\n",
    "    \n",
    "    plt.scatter(y, y_pred)\n",
    "    plt.xlabel(\"Prices: $Y_i$\")\n",
    "    plt.ylabel(\"Predicted prices: $\\hat{Y}_i$\")\n",
    "    plt.title(\"Prices vs Predicted prices: $Y_i$ vs $\\hat{Y}_i$\")\n",
    "    plt.show()"
   ]
  },
  {
   "cell_type": "code",
   "execution_count": 17,
   "metadata": {},
   "outputs": [],
   "source": [
    "manualsgdregressor = ManualSGDRegressor(eta0 = 0.1, max_iter = 100)"
   ]
  },
  {
   "cell_type": "code",
   "execution_count": 18,
   "metadata": {},
   "outputs": [
    {
     "name": "stdout",
     "output_type": "stream",
     "text": [
      "epoch : 1 ---->  loss : 80.94823812784392\n",
      "epoch : 2 ---->  loss : 24.456357605726375\n",
      "epoch : 3 ---->  loss : 21.8730298837498\n",
      "epoch : 4 ---->  loss : 21.051184770601978\n",
      "epoch : 5 ---->  loss : 20.416176131965493\n",
      "epoch : 6 ---->  loss : 19.964944368216386\n",
      "epoch : 7 ---->  loss : 19.780829030894054\n",
      "epoch : 8 ---->  loss : 19.713866656555354\n",
      "epoch : 9 ---->  loss : 19.68998026393374\n",
      "epoch : 10 ---->  loss : 19.68189005103613\n",
      "epoch : 11 ---->  loss : 19.679292137992363\n",
      "epoch : 12 ---->  loss : 19.678498149202422\n",
      "epoch : 13 ---->  loss : 19.678266211080516\n",
      "epoch : 14 ---->  loss : 19.678201207920342\n",
      "epoch : 15 ---->  loss : 19.678183673126593\n",
      "epoch : 16 ---->  loss : 19.678179107839703\n",
      "epoch : 17 ---->  loss : 19.678177957910634\n",
      "epoch : 18 ---->  loss : 19.678177677100848\n",
      "epoch : 19 ---->  loss : 19.678177610498977\n",
      "epoch : 20 ---->  loss : 19.67817759513162\n",
      "epoch : 21 ---->  loss : 19.678177591677148\n",
      "epoch : 22 ---->  loss : 19.678177590919624\n",
      "epoch : 23 ---->  loss : 19.678177590757375\n",
      "epoch : 24 ---->  loss : 19.678177590723408\n",
      "epoch : 25 ---->  loss : 19.67817759071644\n",
      "epoch : 26 ---->  loss : 19.678177590715045\n",
      "epoch : 27 ---->  loss : 19.678177590714764\n",
      "epoch : 28 ---->  loss : 19.678177590714707\n",
      "epoch : 29 ---->  loss : 19.678177590714704\n",
      "epoch : 30 ---->  loss : 19.678177590714704\n",
      "epoch : 31 ---->  loss : 19.678177590714704\n",
      "epoch : 32 ---->  loss : 19.678177590714704\n",
      "epoch : 33 ---->  loss : 19.678177590714704\n",
      "epoch : 34 ---->  loss : 19.678177590714704\n",
      "epoch : 35 ---->  loss : 19.678177590714704\n",
      "epoch : 36 ---->  loss : 19.678177590714704\n",
      "epoch : 37 ---->  loss : 19.678177590714704\n",
      "epoch : 38 ---->  loss : 19.678177590714704\n",
      "epoch : 39 ---->  loss : 19.678177590714704\n",
      "epoch : 40 ---->  loss : 19.678177590714704\n",
      "epoch : 41 ---->  loss : 19.678177590714704\n",
      "epoch : 42 ---->  loss : 19.678177590714704\n",
      "epoch : 43 ---->  loss : 19.678177590714704\n",
      "epoch : 44 ---->  loss : 19.678177590714704\n",
      "epoch : 45 ---->  loss : 19.678177590714704\n",
      "epoch : 46 ---->  loss : 19.678177590714704\n",
      "epoch : 47 ---->  loss : 19.678177590714704\n",
      "epoch : 48 ---->  loss : 19.678177590714704\n",
      "epoch : 49 ---->  loss : 19.678177590714704\n",
      "epoch : 50 ---->  loss : 19.678177590714704\n",
      "epoch : 51 ---->  loss : 19.678177590714704\n",
      "epoch : 52 ---->  loss : 19.678177590714704\n",
      "epoch : 53 ---->  loss : 19.678177590714704\n",
      "epoch : 54 ---->  loss : 19.678177590714704\n",
      "epoch : 55 ---->  loss : 19.678177590714704\n",
      "epoch : 56 ---->  loss : 19.678177590714704\n",
      "epoch : 57 ---->  loss : 19.678177590714704\n",
      "epoch : 58 ---->  loss : 19.678177590714704\n",
      "epoch : 59 ---->  loss : 19.678177590714704\n",
      "epoch : 60 ---->  loss : 19.678177590714704\n",
      "epoch : 61 ---->  loss : 19.678177590714704\n",
      "epoch : 62 ---->  loss : 19.678177590714704\n",
      "epoch : 63 ---->  loss : 19.678177590714704\n",
      "epoch : 64 ---->  loss : 19.678177590714704\n",
      "epoch : 65 ---->  loss : 19.678177590714704\n",
      "epoch : 66 ---->  loss : 19.678177590714704\n",
      "epoch : 67 ---->  loss : 19.678177590714704\n",
      "epoch : 68 ---->  loss : 19.678177590714704\n",
      "epoch : 69 ---->  loss : 19.678177590714704\n",
      "epoch : 70 ---->  loss : 19.678177590714704\n",
      "epoch : 71 ---->  loss : 19.678177590714704\n",
      "epoch : 72 ---->  loss : 19.678177590714704\n",
      "epoch : 73 ---->  loss : 19.678177590714704\n",
      "epoch : 74 ---->  loss : 19.678177590714704\n",
      "epoch : 75 ---->  loss : 19.678177590714704\n",
      "epoch : 76 ---->  loss : 19.678177590714704\n",
      "epoch : 77 ---->  loss : 19.678177590714704\n",
      "epoch : 78 ---->  loss : 19.678177590714704\n",
      "epoch : 79 ---->  loss : 19.678177590714704\n",
      "epoch : 80 ---->  loss : 19.678177590714704\n",
      "epoch : 81 ---->  loss : 19.678177590714704\n",
      "epoch : 82 ---->  loss : 19.678177590714704\n",
      "epoch : 83 ---->  loss : 19.678177590714704\n",
      "epoch : 84 ---->  loss : 19.678177590714704\n",
      "epoch : 85 ---->  loss : 19.678177590714704\n",
      "epoch : 86 ---->  loss : 19.678177590714704\n",
      "epoch : 87 ---->  loss : 19.678177590714704\n",
      "epoch : 88 ---->  loss : 19.678177590714704\n",
      "epoch : 89 ---->  loss : 19.678177590714704\n",
      "epoch : 90 ---->  loss : 19.678177590714704\n",
      "epoch : 91 ---->  loss : 19.678177590714704\n",
      "epoch : 92 ---->  loss : 19.678177590714704\n",
      "epoch : 93 ---->  loss : 19.678177590714704\n",
      "epoch : 94 ---->  loss : 19.678177590714704\n",
      "epoch : 95 ---->  loss : 19.678177590714704\n",
      "epoch : 96 ---->  loss : 19.678177590714704\n",
      "epoch : 97 ---->  loss : 19.678177590714704\n",
      "epoch : 98 ---->  loss : 19.678177590714704\n",
      "epoch : 99 ---->  loss : 19.678177590714704\n",
      "epoch : 100 ---->  loss : 19.678177590714704\n"
     ]
    }
   ],
   "source": [
    "manualsgdregressor.fit(X_train, Y_train)"
   ]
  },
  {
   "cell_type": "code",
   "execution_count": 40,
   "metadata": {},
   "outputs": [],
   "source": [
    "manualsgd_pred = manualsgdregressor.predict(X_test)"
   ]
  },
  {
   "cell_type": "code",
   "execution_count": 41,
   "metadata": {},
   "outputs": [
    {
     "data": {
      "image/png": "[encoded data removed]",
      "text/plain": [
       "<Figure size 432x288 with 1 Axes>"
      ]
     },
     "metadata": {},
     "output_type": "display_data"
    }
   ],
   "source": [
    "scatter_plot(Y_test, manualsgd_pred.ravel())"
   ]
  },
  {
   "cell_type": "markdown",
   "metadata": {},
   "source": [
    "### sklearn SGDRegressor"
   ]
  },
  {
   "cell_type": "code",
   "execution_count": 78,
   "metadata": {},
   "outputs": [],
   "source": [
    "sgdregressor = SGDRegressor(loss = 'squared_loss'\n",
    "                            ,penalty = 'none'\n",
    "                            ,fit_intercept = True\n",
    "                            ,max_iter = 100\n",
    "                            ,shuffle = False\n",
    "                            ,learning_rate = 'invscaling'\n",
    "                            ,eta0 = 0.1\n",
    "                            ,power_t = 0.5\n",
    "                           )"
   ]
  },
  {
   "cell_type": "code",
   "execution_count": 79,
   "metadata": {},
   "outputs": [
    {
     "data": {
      "text/plain": [
       "SGDRegressor(alpha=0.0001, average=False, epsilon=0.1, eta0=0.1,\n",
       "       fit_intercept=True, l1_ratio=0.15, learning_rate='invscaling',\n",
       "       loss='squared_loss', max_iter=100, n_iter=None, penalty='none',\n",
       "       power_t=0.5, random_state=None, shuffle=False, tol=None, verbose=0,\n",
       "       warm_start=False)"
      ]
     },
     "execution_count": 79,
     "metadata": {},
     "output_type": "execute_result"
    }
   ],
   "source": [
    "sgdregressor.fit(X_train, Y_train)"
   ]
  },
  {
   "cell_type": "code",
   "execution_count": 80,
   "metadata": {},
   "outputs": [],
   "source": [
    "sklearnsgd_pred = sgdregressor.predict(X_test)"
   ]
  },
  {
   "cell_type": "code",
   "execution_count": 81,
   "metadata": {},
   "outputs": [
    {
     "data": {
      "image/png": "[encoded data removed]",
      "text/plain": [
       "<Figure size 432x288 with 1 Axes>"
      ]
     },
     "metadata": {},
     "output_type": "display_data"
    }
   ],
   "source": [
    "scatter_plot(Y_test, sklearnsgd_pred)"
   ]
  },
  {
   "cell_type": "markdown",
   "metadata": {},
   "source": [
    "## Comparison between Manual SGD vs Sklearn SGD"
   ]
  },
  {
   "cell_type": "markdown",
   "metadata": {},
   "source": [
    "### 1) Mean Squared error Comparison"
   ]
  },
  {
   "cell_type": "code",
   "execution_count": 82,
   "metadata": {},
   "outputs": [
    {
     "name": "stdout",
     "output_type": "stream",
     "text": [
      "+--------------------+-------------------+\n",
      "|   Manual SGD MSE   |  Sklearn SGD MSE  |\n",
      "+--------------------+-------------------+\n",
      "| 28.900630817281463 | 28.60428132974276 |\n",
      "+--------------------+-------------------+\n"
     ]
    }
   ],
   "source": [
    "x = PrettyTable()\n",
    "x.field_names = [\"Manual SGD MSE\", \"Sklearn SGD MSE\"]\n",
    "\n",
    "x.add_row([mean_squared_error(Y_test, manualsgd_pred.ravel()), mean_squared_error(Y_test, sklearnsgd_pred)])\n",
    "\n",
    "print(x)"
   ]
  },
  {
   "cell_type": "markdown",
   "metadata": {},
   "source": [
    "### 2) Weights Comparison"
   ]
  },
  {
   "cell_type": "code",
   "execution_count": 83,
   "metadata": {},
   "outputs": [
    {
     "name": "stdout",
     "output_type": "stream",
     "text": [
      "+------------------------+-------------------------+\n",
      "| Manual SGD Weights (w) | Sklearn SGD Weights (w) |\n",
      "+------------------------+-------------------------+\n",
      "|  -1.3130928529890302   |   -1.3236928589006762   |\n",
      "|   0.7397876918277372   |    0.8516894023424136   |\n",
      "|  -0.5336711574362717   |   -0.2560181062637622   |\n",
      "|   0.2271617073349296   |   0.20422827619970232   |\n",
      "|  -1.3248476340862139   |   -1.4986580762560147   |\n",
      "|   2.9372819606624607   |    2.8108169017969766   |\n",
      "|  -0.40257189428691204  |   -0.35049799904898754  |\n",
      "|  -2.6102196596415674   |   -2.7706806210092165   |\n",
      "|   2.2639513880060953   |    2.7549742457296835   |\n",
      "|   -1.541033525764789   |   -2.0459568927857616   |\n",
      "|  -2.1404070158363195   |    -2.13497639036739    |\n",
      "|   0.9635732178879788   |    1.0364897915477285   |\n",
      "|  -3.1223105849036066   |    -3.318770741957669   |\n",
      "+------------------------+-------------------------+\n"
     ]
    }
   ],
   "source": [
    "x = PrettyTable()\n",
    "\n",
    "x.add_column(\"Manual SGD Weights (w)\",manualsgdregressor.coef_)\n",
    "x.add_column(\"Sklearn SGD Weights (w)\",sgdregressor.coef_)\n",
    "\n",
    "print(x)"
   ]
  },
  {
   "cell_type": "markdown",
   "metadata": {},
   "source": [
    "### 3) Intercept comparison"
   ]
  },
  {
   "cell_type": "code",
   "execution_count": 84,
   "metadata": {},
   "outputs": [
    {
     "name": "stdout",
     "output_type": "stream",
     "text": [
      "+--------------------------+---------------------------+\n",
      "| Manual SGD intercept (b) | Sklearn SGD intercept (b) |\n",
      "+--------------------------+---------------------------+\n",
      "|    22.643092636664242    |     22.55984186228535     |\n",
      "+--------------------------+---------------------------+\n"
     ]
    }
   ],
   "source": [
    "x = PrettyTable()\n",
    "x.field_names = [\"Manual SGD intercept (b)\", \"Sklearn SGD intercept (b)\"]\n",
    "\n",
    "x.add_row([manualsgdregressor.intercept_, sgdregressor.intercept_[0]])\n",
    "\n",
    "print(x)"
   ]
  },
  {
   "cell_type": "markdown",
   "metadata": {},
   "source": [
    "# Conclusions:\n",
    "\n",
    "<ol>\n",
    "    <li>Ran Manual SGD implementation and Sklearn SGD implementation for loss = 'squared_loss', penalty = 'none', fit_intercept = True, max_iter = 100, shuffle = False, learning_rate = 'invscaling', eta0 = 0.1, power_t = 0.5.\n",
    "    </li>\n",
    "    <li>Observed that Manual SGD MSE is close to Sklearn SGD implementation :) \n",
    "    </li>\n",
    "    <li>Observed that weights for Manual SGD and Sklearn SGD implementation are close\n",
    "    </li>\n",
    "    <li>Observed that intercept term for Manual SGD and Sklearn SGD implementation is very close\n",
    "    </li>\n",
    "</ol>"
   ]
  }
 ],
 "metadata": {
  "kernelspec": {
   "display_name": "Python 3",
   "language": "python",
   "name": "python3"
  },
  "language_info": {
   "codemirror_mode": {
    "name": "ipython",
    "version": 3
   },
   "file_extension": ".py",
   "mimetype": "text/x-python",
   "name": "python",
   "nbconvert_exporter": "python",
   "pygments_lexer": "ipython3",
   "version": "3.6.5"
  }
 },
 "nbformat": 4,
 "nbformat_minor": 2
}
